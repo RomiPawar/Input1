{
  "nbformat": 4,
  "nbformat_minor": 0,
  "metadata": {
    "colab": {
      "name": "Input1.ipynb",
      "provenance": [],
      "authorship_tag": "ABX9TyOjAVvSl5F6daeDo25WTj04",
      "include_colab_link": true
    },
    "kernelspec": {
      "name": "python3",
      "display_name": "Python 3"
    },
    "language_info": {
      "name": "python"
    }
  },
  "cells": [
    {
      "cell_type": "markdown",
      "metadata": {
        "id": "view-in-github",
        "colab_type": "text"
      },
      "source": [
        "<a href=\"https://colab.research.google.com/github/RomiPawar/Input1/blob/main/Input1.ipynb\" target=\"_parent\"><img src=\"https://colab.research.google.com/assets/colab-badge.svg\" alt=\"Open In Colab\"/></a>"
      ]
    },
    {
      "cell_type": "code",
      "execution_count": 3,
      "metadata": {
        "id": "5w7AAjX6uET4"
      },
      "outputs": [],
      "source": [
        "from google.colab import drive"
      ]
    },
    {
      "cell_type": "code",
      "source": [
        "drive.mount('/content/drive')"
      ],
      "metadata": {
        "colab": {
          "base_uri": "https://localhost:8080/"
        },
        "id": "Ex30shRMu6ay",
        "outputId": "09bf5936-53e1-4cbc-a650-6cebfbdccfbc"
      },
      "execution_count": 4,
      "outputs": [
        {
          "output_type": "stream",
          "name": "stdout",
          "text": [
            "Mounted at /content/drive\n"
          ]
        }
      ]
    },
    {
      "cell_type": "code",
      "source": [
        "import pandas as pd"
      ],
      "metadata": {
        "id": "JhyfKm9-vofc"
      },
      "execution_count": 5,
      "outputs": []
    },
    {
      "cell_type": "code",
      "source": [
        "data = pd.read_excel('/content/drive/MyDrive/data/Input_1 - Python Developer Intern - Task 2 - Datasets.xlsx')"
      ],
      "metadata": {
        "id": "XVtJaY55v0eo"
      },
      "execution_count": 6,
      "outputs": []
    },
    {
      "cell_type": "code",
      "source": [
        "data.head(15)\n",
        "data.sort_values"
      ],
      "metadata": {
        "colab": {
          "base_uri": "https://localhost:8080/"
        },
        "id": "u5oUQRqawGiI",
        "outputId": "c28107d7-bd19-4c1c-b5ef-302ddfc6fc61"
      },
      "execution_count": 7,
      "outputs": [
        {
          "output_type": "execute_result",
          "data": {
            "text/plain": [
              "<bound method DataFrame.sort_values of         Name  id Chapter Tag Concept Test 1 - score  \\\n",
              "0    Darshan  34       C8S11                      4   \n",
              "1      Durga  35       C8S11                      3   \n",
              "2      Idhaz  36       C8S11                      5   \n",
              "3    Kishore  37       C8S11                      1   \n",
              "4       Mano  38       C8S11                      4   \n",
              "5     Nandha  39       C8S11                      3   \n",
              "6   Nandhini  40       C8S11                      5   \n",
              "7     Rubika  42       C8S11                      2   \n",
              "8      Saila  43       C8S11                      -   \n",
              "9    Shankar  44       C8S11                      1   \n",
              "10     Tarun  45       C8S11                      3   \n",
              "11    Thanis  46       C8S11                      5   \n",
              "12   Vignesh  47       C8S11                      3   \n",
              "\n",
              "   Concept Test 1 - time-taken (seconds) Concept Test 1 - answered  \\\n",
              "0                                    118                         4   \n",
              "1                                    886                         5   \n",
              "2                                    112                         5   \n",
              "3                                     29                         3   \n",
              "4                                    242                         5   \n",
              "5                                     55                         5   \n",
              "6                                    120                         5   \n",
              "7                                    138                         5   \n",
              "8                                      -                         -   \n",
              "9                                     65                         5   \n",
              "10                                    71                         5   \n",
              "11                                   199                         5   \n",
              "12                                   115                         5   \n",
              "\n",
              "   Concept Test 1- correct Concept Test 1- wrong Concept Test 1- skipped  \\\n",
              "0                        4                     0                       1   \n",
              "1                        3                     2                       0   \n",
              "2                        5                     0                       0   \n",
              "3                        1                     2                       2   \n",
              "4                        4                     1                       0   \n",
              "5                        3                     2                       0   \n",
              "6                        5                     0                       0   \n",
              "7                        2                     3                       0   \n",
              "8                        -                     -                       -   \n",
              "9                        1                     4                       0   \n",
              "10                       3                     2                       0   \n",
              "11                       5                     0                       0   \n",
              "12                       3                     2                       0   \n",
              "\n",
              "   Concept Test 2 - score  ... Full Chapter Test 1 - answered  \\\n",
              "0                       1  ...                             10   \n",
              "1                       3  ...                             10   \n",
              "2                       3  ...                             10   \n",
              "3                       -  ...                             10   \n",
              "4                       0  ...                             10   \n",
              "5                       0  ...                              9   \n",
              "6                       3  ...                             10   \n",
              "7                       0  ...                             10   \n",
              "8                       0  ...                              -   \n",
              "9                       1  ...                             10   \n",
              "10                      2  ...                              4   \n",
              "11                      2  ...                             10   \n",
              "12                      2  ...                             10   \n",
              "\n",
              "   Full Chapter Test 1- correct Full Chapter Test 1- wrong  \\\n",
              "0                             6                          4   \n",
              "1                             4                          6   \n",
              "2                             4                          6   \n",
              "3                             4                          6   \n",
              "4                             4                          6   \n",
              "5                             2                          7   \n",
              "6                             7                          3   \n",
              "7                             7                          3   \n",
              "8                             -                          -   \n",
              "9                             4                          6   \n",
              "10                            1                          3   \n",
              "11                            3                          7   \n",
              "12                            4                          6   \n",
              "\n",
              "   Full Chapter Test 1- skipped Full Chapter Test 2 - score  \\\n",
              "0                             0                           6   \n",
              "1                             0                           6   \n",
              "2                             0                           8   \n",
              "3                             0                           0   \n",
              "4                             0                           2   \n",
              "5                             1                           0   \n",
              "6                             0                           5   \n",
              "7                             0                           5   \n",
              "8                             -                           -   \n",
              "9                             0                           2   \n",
              "10                            6                           1   \n",
              "11                            0                           1   \n",
              "12                            0                           -   \n",
              "\n",
              "   Full Chapter Test 2 - time-taken (seconds) Full Chapter Test 2 - answered  \\\n",
              "0                                         397                             10   \n",
              "1                                         539                             10   \n",
              "2                                         583                             10   \n",
              "3                                          37                              9   \n",
              "4                                         657                             10   \n",
              "5                                          30                             10   \n",
              "6                                         691                             10   \n",
              "7                                         280                             10   \n",
              "8                                           -                              -   \n",
              "9                                         143                             10   \n",
              "10                                        139                              9   \n",
              "11                                         72                             10   \n",
              "12                                          -                              -   \n",
              "\n",
              "   Full Chapter Test 2- correct Full Chapter Test 2- wrong  \\\n",
              "0                             6                          4   \n",
              "1                             6                          4   \n",
              "2                             8                          2   \n",
              "3                             0                          9   \n",
              "4                             2                          8   \n",
              "5                             0                         10   \n",
              "6                             5                          5   \n",
              "7                             5                          5   \n",
              "8                             -                          -   \n",
              "9                             2                          8   \n",
              "10                            1                          8   \n",
              "11                            1                          9   \n",
              "12                            -                          -   \n",
              "\n",
              "   Full Chapter Test 2- skipped  \n",
              "0                             0  \n",
              "1                             0  \n",
              "2                             0  \n",
              "3                             1  \n",
              "4                             0  \n",
              "5                             0  \n",
              "6                             0  \n",
              "7                             0  \n",
              "8                             -  \n",
              "9                             0  \n",
              "10                            1  \n",
              "11                            0  \n",
              "12                            -  \n",
              "\n",
              "[13 rows x 57 columns]>"
            ]
          },
          "metadata": {},
          "execution_count": 7
        }
      ]
    },
    {
      "cell_type": "code",
      "source": [
        "data = pd.DataFrame({'Test_Name': ['Concept Test 1','Concept Test 2','Concept Test 3','Concept Test 4','Concept Test 5','Full Chapter Test 1','Full Chapter Test 2','Topic Test 1','Topic Test 2',\n",
        "                     'Concept Test 1','Concept Test 2','Concept Test 3','Concept Test 4','Concept Test 5','Full Chapter Test 1','Full Chapter Test 2','Topic Test 1','Topic Test 2',\n",
        "                     'Concept Test 1','Concept Test 2','Concept Test 3','Concept Test 4','Concept Test 5','Full Chapter Test 1','Full Chapter Test 2','Topic Test 1','Topic Test 2',\n",
        "                     'Concept Test 1','Concept Test 2','Concept Test 3','Concept Test 4','Concept Test 5','Full Chapter Test 1','Full Chapter Test 2','Topic Test 1','Topic Test 2',\n",
        "                     'Concept Test 1','Concept Test 2','Concept Test 3','Concept Test 4','Concept Test 5','Full Chapter Test 1','Full Chapter Test 2','Topic Test 1','Topic Test 2',\n",
        "                     'Concept Test 1','Concept Test 2','Concept Test 3','Concept Test 4','Concept Test 5','Full Chapter Test 1','Full Chapter Test 2','Topic Test 1','Topic Test 2',\n",
        "                     'Concept Test 1','Concept Test 2','Concept Test 3','Concept Test 4','Concept Test 5','Full Chapter Test 1','Full Chapter Test 2','Topic Test 1','Topic Test 2',\n",
        "                     'Concept Test 1','Concept Test 2','Concept Test 3','Concept Test 4','Concept Test 5','Full Chapter Test 1','Full Chapter Test 2','Topic Test 1','Topic Test 2',\n",
        "                     'Concept Test 2','Concept Test 5',\n",
        "                     'Concept Test 1','Concept Test 2','Concept Test 3','Concept Test 4','Concept Test 5','Full Chapter Test 1','Full Chapter Test 2','Topic Test 1','Topic Test 2',\n",
        "                     'Concept Test 1','Concept Test 2','Concept Test 3','Concept Test 4','Concept Test 5','Full Chapter Test 1','Full Chapter Test 2','Topic Test 1','Topic Test 2',\n",
        "                     'Concept Test 1','Concept Test 2','Concept Test 3','Concept Test 4','Concept Test 5','Full Chapter Test 1','Full Chapter Test 2','Topic Test 1','Topic Test 2',\n",
        "                     'Concept Test 1','Concept Test 2','Concept Test 3','Concept Test 4','Concept Test 5','Full Chapter Test 1','Full Chapter Test 2','Topic Test 1','Topic Test 2']})\n"
      ],
      "metadata": {
        "id": "TKhoxzTuTG0Z"
      },
      "execution_count": 8,
      "outputs": []
    },
    {
      "cell_type": "code",
      "source": [
        "data.head(110)"
      ],
      "metadata": {
        "colab": {
          "base_uri": "https://localhost:8080/",
          "height": 424
        },
        "id": "FUb0qcPsUmoJ",
        "outputId": "01cd0741-31f0-4acf-ed3c-1c66bc59f2e4"
      },
      "execution_count": 9,
      "outputs": [
        {
          "output_type": "execute_result",
          "data": {
            "text/plain": [
              "               Test_Name\n",
              "0         Concept Test 1\n",
              "1         Concept Test 2\n",
              "2         Concept Test 3\n",
              "3         Concept Test 4\n",
              "4         Concept Test 5\n",
              "..                   ...\n",
              "105       Concept Test 5\n",
              "106  Full Chapter Test 1\n",
              "107  Full Chapter Test 2\n",
              "108         Topic Test 1\n",
              "109         Topic Test 2\n",
              "\n",
              "[110 rows x 1 columns]"
            ],
            "text/html": [
              "\n",
              "  <div id=\"df-421281ad-55ce-414a-ab6c-6748da2bc3d0\">\n",
              "    <div class=\"colab-df-container\">\n",
              "      <div>\n",
              "<style scoped>\n",
              "    .dataframe tbody tr th:only-of-type {\n",
              "        vertical-align: middle;\n",
              "    }\n",
              "\n",
              "    .dataframe tbody tr th {\n",
              "        vertical-align: top;\n",
              "    }\n",
              "\n",
              "    .dataframe thead th {\n",
              "        text-align: right;\n",
              "    }\n",
              "</style>\n",
              "<table border=\"1\" class=\"dataframe\">\n",
              "  <thead>\n",
              "    <tr style=\"text-align: right;\">\n",
              "      <th></th>\n",
              "      <th>Test_Name</th>\n",
              "    </tr>\n",
              "  </thead>\n",
              "  <tbody>\n",
              "    <tr>\n",
              "      <th>0</th>\n",
              "      <td>Concept Test 1</td>\n",
              "    </tr>\n",
              "    <tr>\n",
              "      <th>1</th>\n",
              "      <td>Concept Test 2</td>\n",
              "    </tr>\n",
              "    <tr>\n",
              "      <th>2</th>\n",
              "      <td>Concept Test 3</td>\n",
              "    </tr>\n",
              "    <tr>\n",
              "      <th>3</th>\n",
              "      <td>Concept Test 4</td>\n",
              "    </tr>\n",
              "    <tr>\n",
              "      <th>4</th>\n",
              "      <td>Concept Test 5</td>\n",
              "    </tr>\n",
              "    <tr>\n",
              "      <th>...</th>\n",
              "      <td>...</td>\n",
              "    </tr>\n",
              "    <tr>\n",
              "      <th>105</th>\n",
              "      <td>Concept Test 5</td>\n",
              "    </tr>\n",
              "    <tr>\n",
              "      <th>106</th>\n",
              "      <td>Full Chapter Test 1</td>\n",
              "    </tr>\n",
              "    <tr>\n",
              "      <th>107</th>\n",
              "      <td>Full Chapter Test 2</td>\n",
              "    </tr>\n",
              "    <tr>\n",
              "      <th>108</th>\n",
              "      <td>Topic Test 1</td>\n",
              "    </tr>\n",
              "    <tr>\n",
              "      <th>109</th>\n",
              "      <td>Topic Test 2</td>\n",
              "    </tr>\n",
              "  </tbody>\n",
              "</table>\n",
              "<p>110 rows × 1 columns</p>\n",
              "</div>\n",
              "      <button class=\"colab-df-convert\" onclick=\"convertToInteractive('df-421281ad-55ce-414a-ab6c-6748da2bc3d0')\"\n",
              "              title=\"Convert this dataframe to an interactive table.\"\n",
              "              style=\"display:none;\">\n",
              "        \n",
              "  <svg xmlns=\"http://www.w3.org/2000/svg\" height=\"24px\"viewBox=\"0 0 24 24\"\n",
              "       width=\"24px\">\n",
              "    <path d=\"M0 0h24v24H0V0z\" fill=\"none\"/>\n",
              "    <path d=\"M18.56 5.44l.94 2.06.94-2.06 2.06-.94-2.06-.94-.94-2.06-.94 2.06-2.06.94zm-11 1L8.5 8.5l.94-2.06 2.06-.94-2.06-.94L8.5 2.5l-.94 2.06-2.06.94zm10 10l.94 2.06.94-2.06 2.06-.94-2.06-.94-.94-2.06-.94 2.06-2.06.94z\"/><path d=\"M17.41 7.96l-1.37-1.37c-.4-.4-.92-.59-1.43-.59-.52 0-1.04.2-1.43.59L10.3 9.45l-7.72 7.72c-.78.78-.78 2.05 0 2.83L4 21.41c.39.39.9.59 1.41.59.51 0 1.02-.2 1.41-.59l7.78-7.78 2.81-2.81c.8-.78.8-2.07 0-2.86zM5.41 20L4 18.59l7.72-7.72 1.47 1.35L5.41 20z\"/>\n",
              "  </svg>\n",
              "      </button>\n",
              "      \n",
              "  <style>\n",
              "    .colab-df-container {\n",
              "      display:flex;\n",
              "      flex-wrap:wrap;\n",
              "      gap: 12px;\n",
              "    }\n",
              "\n",
              "    .colab-df-convert {\n",
              "      background-color: #E8F0FE;\n",
              "      border: none;\n",
              "      border-radius: 50%;\n",
              "      cursor: pointer;\n",
              "      display: none;\n",
              "      fill: #1967D2;\n",
              "      height: 32px;\n",
              "      padding: 0 0 0 0;\n",
              "      width: 32px;\n",
              "    }\n",
              "\n",
              "    .colab-df-convert:hover {\n",
              "      background-color: #E2EBFA;\n",
              "      box-shadow: 0px 1px 2px rgba(60, 64, 67, 0.3), 0px 1px 3px 1px rgba(60, 64, 67, 0.15);\n",
              "      fill: #174EA6;\n",
              "    }\n",
              "\n",
              "    [theme=dark] .colab-df-convert {\n",
              "      background-color: #3B4455;\n",
              "      fill: #D2E3FC;\n",
              "    }\n",
              "\n",
              "    [theme=dark] .colab-df-convert:hover {\n",
              "      background-color: #434B5C;\n",
              "      box-shadow: 0px 1px 3px 1px rgba(0, 0, 0, 0.15);\n",
              "      filter: drop-shadow(0px 1px 2px rgba(0, 0, 0, 0.3));\n",
              "      fill: #FFFFFF;\n",
              "    }\n",
              "  </style>\n",
              "\n",
              "      <script>\n",
              "        const buttonEl =\n",
              "          document.querySelector('#df-421281ad-55ce-414a-ab6c-6748da2bc3d0 button.colab-df-convert');\n",
              "        buttonEl.style.display =\n",
              "          google.colab.kernel.accessAllowed ? 'block' : 'none';\n",
              "\n",
              "        async function convertToInteractive(key) {\n",
              "          const element = document.querySelector('#df-421281ad-55ce-414a-ab6c-6748da2bc3d0');\n",
              "          const dataTable =\n",
              "            await google.colab.kernel.invokeFunction('convertToInteractive',\n",
              "                                                     [key], {});\n",
              "          if (!dataTable) return;\n",
              "\n",
              "          const docLinkHtml = 'Like what you see? Visit the ' +\n",
              "            '<a target=\"_blank\" href=https://colab.research.google.com/notebooks/data_table.ipynb>data table notebook</a>'\n",
              "            + ' to learn more about interactive tables.';\n",
              "          element.innerHTML = '';\n",
              "          dataTable['output_type'] = 'display_data';\n",
              "          await google.colab.output.renderOutput(dataTable, element);\n",
              "          const docLink = document.createElement('div');\n",
              "          docLink.innerHTML = docLinkHtml;\n",
              "          element.appendChild(docLink);\n",
              "        }\n",
              "      </script>\n",
              "    </div>\n",
              "  </div>\n",
              "  "
            ]
          },
          "metadata": {},
          "execution_count": 9
        }
      ]
    },
    {
      "cell_type": "code",
      "source": [
        "from openpyxl import load_workbook\n",
        "wb = load_workbook('/content/drive/MyDrive/data/Input_1 - Python Developer Intern - Task 2 - Datasets.xlsx')\n",
        "print(wb.sheetnames)"
      ],
      "metadata": {
        "colab": {
          "base_uri": "https://localhost:8080/"
        },
        "id": "jIGcqmyNfzM6",
        "outputId": "d6d7d82c-c190-4b94-82cf-9c8d0b867866"
      },
      "execution_count": 12,
      "outputs": [
        {
          "output_type": "stream",
          "name": "stdout",
          "text": [
            "['in']\n"
          ]
        }
      ]
    },
    {
      "cell_type": "code",
      "source": [
        "cols = ['Name','Userid','chapter Tag','Test_Name','answered','skipped']\n",
        "txt = ['Durga','34','C8S11 ','Concept Test 1','4','1']\n",
        "\n",
        "for num in range(5)\n",
        "  row = data.row(data)\n",
        "  for index, col in enumerate(cols):\n",
        "    value = txt[index] + num\n",
        "    row.write(index, value)\n",
        "\n",
        "data.save()"
      ],
      "metadata": {
        "colab": {
          "base_uri": "https://localhost:8080/",
          "height": 130
        },
        "id": "DiFIRnGxioGv",
        "outputId": "5d891326-09fc-46d7-a890-b9fb4e581c05"
      },
      "execution_count": 15,
      "outputs": [
        {
          "output_type": "error",
          "ename": "SyntaxError",
          "evalue": "ignored",
          "traceback": [
            "\u001b[0;36m  File \u001b[0;32m\"<ipython-input-15-59ed616a4ecf>\"\u001b[0;36m, line \u001b[0;32m4\u001b[0m\n\u001b[0;31m    for num in range(5)\u001b[0m\n\u001b[0m                       ^\u001b[0m\n\u001b[0;31mSyntaxError\u001b[0m\u001b[0;31m:\u001b[0m invalid syntax\n"
          ]
        }
      ]
    }
  ]
}