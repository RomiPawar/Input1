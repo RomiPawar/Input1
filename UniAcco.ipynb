{
  "nbformat": 4,
  "nbformat_minor": 0,
  "metadata": {
    "colab": {
      "provenance": [],
      "authorship_tag": "ABX9TyPz7ZItF5hn9v6OPEcUtCho",
      "include_colab_link": true
    },
    "kernelspec": {
      "name": "python3",
      "display_name": "Python 3"
    },
    "language_info": {
      "name": "python"
    }
  },
  "cells": [
    {
      "cell_type": "markdown",
      "metadata": {
        "id": "view-in-github",
        "colab_type": "text"
      },
      "source": [
        "<a href=\"https://colab.research.google.com/github/RomiPawar/Input1/blob/main/UniAcco.ipynb\" target=\"_parent\"><img src=\"https://colab.research.google.com/assets/colab-badge.svg\" alt=\"Open In Colab\"/></a>"
      ]
    },
    {
      "cell_type": "code",
      "execution_count": 7,
      "metadata": {
        "colab": {
          "base_uri": "https://localhost:8080/"
        },
        "id": "kUUYzvOtKyXe",
        "outputId": "e1532316-3ef3-4657-e9e6-a2ec44a094b8"
      },
      "outputs": [
        {
          "output_type": "stream",
          "name": "stdout",
          "text": [
            "Yeah !  Page is Working! \n"
          ]
        }
      ],
      "source": [
        "from urllib.request import urlopen\n",
        "from urllib.error import *\n",
        " \n",
        "try:\n",
        "    html = urlopen(\"https://unicreds.com/contact-us\")\n",
        "     \n",
        "except HTTPError as e:\n",
        "    print(\"HTTP error\", e)\n",
        "     \n",
        "except URLError as e:\n",
        "    print(\"Opps ! Page not Working!\", e)\n",
        " \n",
        "else:\n",
        "    print('Yeah !  Page is Working! ')"
      ]
    }
  ]
}